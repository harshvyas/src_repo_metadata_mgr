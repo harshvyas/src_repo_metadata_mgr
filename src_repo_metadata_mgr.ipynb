{
  "cells": [
    {
      "cell_type": "markdown",
      "metadata": {
        "colab_type": "text",
        "id": "view-in-github"
      },
      "source": [
        "<a href=\"https://colab.research.google.com/github/harshvyas/src_repo_metadata_mgr/blob/main/src_repo_metadata_mgr.ipynb\" target=\"_parent\"><img src=\"https://colab.research.google.com/assets/colab-badge.svg\" alt=\"Open In Colab\"/></a>"
      ]
    },
    {
      "cell_type": "markdown",
      "metadata": {
        "id": "NK3vdJsLI3Sb"
      },
      "source": [
        "# GitHub to Sourcegraph Repository Metadata Synchronizer"
      ]
    },
    {
      "cell_type": "markdown",
      "metadata": {
        "id": "ZKLU8-AOHrN9"
      },
      "source": [
        "- Clone the repo"
      ]
    },
    {
      "cell_type": "code",
      "execution_count": null,
      "metadata": {
        "id": "eeSmarMrYz-D"
      },
      "outputs": [],
      "source": [
        "!git clone https://github.com/harshvyas/src_repo_metadata_mgr.git"
      ]
    },
    {
      "cell_type": "markdown",
      "metadata": {
        "id": "EStodUkpHqGE"
      },
      "source": [
        "- Change Directory"
      ]
    },
    {
      "cell_type": "code",
      "execution_count": null,
      "metadata": {
        "id": "idFZJIrBY5uj"
      },
      "outputs": [],
      "source": [
        "%cd src_repo_metadata_mgr/ "
      ]
    },
    {
      "cell_type": "markdown",
      "metadata": {
        "id": "CkjEwLYUH3is"
      },
      "source": [
        "- Install prerequisites"
      ]
    },
    {
      "cell_type": "code",
      "execution_count": null,
      "metadata": {
        "id": "XOm1PSaqY6Rp"
      },
      "outputs": [],
      "source": [
        "!pip install -r requirements.txt "
      ]
    },
    {
      "cell_type": "markdown",
      "metadata": {
        "id": "KX8MmNoLH5KF"
      },
      "source": [
        "- Add your Github Token"
      ]
    },
    {
      "cell_type": "code",
      "execution_count": null,
      "metadata": {
        "id": "btsp9BXRaxMK"
      },
      "outputs": [],
      "source": [
        "%env GITHUB_TOKEN="
      ]
    },
    {
      "cell_type": "markdown",
      "metadata": {
        "id": "MSbZWlYNH-PN"
      },
      "source": [
        "- Add your Sourcegraph Token"
      ]
    },
    {
      "cell_type": "code",
      "execution_count": null,
      "metadata": {
        "id": "Uey4UNQOa9-C"
      },
      "outputs": [],
      "source": [
        "%env SOURCEGRAPH_TOKEN="
      ]
    },
    {
      "cell_type": "markdown",
      "metadata": {
        "id": "3sJQbJ-2HXnY"
      },
      "source": [
        "- Modify the sourcegraph instance url in main.py if needed. \n",
        "- Defaults to sourcegraph.com"
      ]
    },
    {
      "cell_type": "code",
      "execution_count": null,
      "metadata": {
        "id": "65dqx2P6IOPp"
      },
      "outputs": [],
      "source": [
        "# sourcegraph_api_url = 'https://sourcegraph.com/.api/graphql'"
      ]
    },
    {
      "cell_type": "markdown",
      "metadata": {
        "id": "RMrwJGn3IFOD"
      },
      "source": [
        "- Preview the synchronization"
      ]
    },
    {
      "cell_type": "code",
      "execution_count": null,
      "metadata": {
        "id": "tTFa8hwmciQB"
      },
      "outputs": [],
      "source": [
        "!python main.py --repositories harshvyas/refactortest "
      ]
    },
    {
      "cell_type": "markdown",
      "metadata": {
        "id": "u9hVmYgqIu6z"
      },
      "source": [
        "- Execute the synchronization"
      ]
    },
    {
      "cell_type": "code",
      "execution_count": null,
      "metadata": {
        "id": "p9C0iPNFFuzm"
      },
      "outputs": [],
      "source": [
        "!python main.py --repositories harshvyas/refactortest --sync # Execute the synchronization"
      ]
    }
  ],
  "metadata": {
    "colab": {
      "authorship_tag": "ABX9TyO14DiPhsArTkWwAoHB7Uub",
      "include_colab_link": true,
      "provenance": []
    },
    "kernelspec": {
      "display_name": "Python 3",
      "name": "python3"
    },
    "language_info": {
      "name": "python"
    }
  },
  "nbformat": 4,
  "nbformat_minor": 0
}
