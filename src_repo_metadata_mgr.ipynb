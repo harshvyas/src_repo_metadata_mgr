{
  "nbformat": 4,
  "nbformat_minor": 0,
  "metadata": {
    "colab": {
      "provenance": [],
      "authorship_tag": "ABX9TyO14DiPhsArTkWwAoHB7Uub",
      "include_colab_link": true
    },
    "kernelspec": {
      "name": "python3",
      "display_name": "Python 3"
    },
    "language_info": {
      "name": "python"
    }
  },
  "cells": [
    {
      "cell_type": "markdown",
      "metadata": {
        "id": "view-in-github",
        "colab_type": "text"
      },
      "source": [
        "<a href=\"https://colab.research.google.com/github/harshvyas/src_repo_metadata_mgr/blob/main/src_repo_metadata_mgr.ipynb\" target=\"_parent\"><img src=\"https://colab.research.google.com/assets/colab-badge.svg\" alt=\"Open In Colab\"/></a>"
      ]
    },
    {
      "cell_type": "markdown",
      "source": [
        "# GitHub to Sourcegraph Repository Metadata Synchronizer"
      ],
      "metadata": {
        "id": "NK3vdJsLI3Sb"
      }
    },
    {
      "cell_type": "markdown",
      "source": [
        "- Clone the repo"
      ],
      "metadata": {
        "id": "ZKLU8-AOHrN9"
      }
    },
    {
      "cell_type": "code",
      "execution_count": null,
      "metadata": {
        "id": "eeSmarMrYz-D"
      },
      "outputs": [],
      "source": [
        "!git clone https://github.com/harshvyas/src_repo_metadata_mgr.git"
      ]
    },
    {
      "cell_type": "markdown",
      "source": [
        "- Change Directory"
      ],
      "metadata": {
        "id": "EStodUkpHqGE"
      }
    },
    {
      "cell_type": "code",
      "source": [
        "%cd src_repo_metadata_mgr/ "
      ],
      "metadata": {
        "id": "idFZJIrBY5uj"
      },
      "execution_count": null,
      "outputs": []
    },
    {
      "cell_type": "markdown",
      "source": [
        "- Install prerequisites"
      ],
      "metadata": {
        "id": "CkjEwLYUH3is"
      }
    },
    {
      "cell_type": "code",
      "source": [
        "!pip install -r requirements.txt "
      ],
      "metadata": {
        "id": "XOm1PSaqY6Rp"
      },
      "execution_count": null,
      "outputs": []
    },
    {
      "cell_type": "markdown",
      "source": [
        "- Add your Github Token"
      ],
      "metadata": {
        "id": "KX8MmNoLH5KF"
      }
    },
    {
      "cell_type": "code",
      "source": [
        "%env GITHUB_TOKEN= "
      ],
      "metadata": {
        "id": "btsp9BXRaxMK"
      },
      "execution_count": null,
      "outputs": []
    },
    {
      "cell_type": "markdown",
      "source": [
        "- Add your Sourcegraph Token"
      ],
      "metadata": {
        "id": "MSbZWlYNH-PN"
      }
    },
    {
      "cell_type": "code",
      "source": [
        "%env SOURCEGRAPH_TOKEN= "
      ],
      "metadata": {
        "id": "Uey4UNQOa9-C"
      },
      "execution_count": null,
      "outputs": []
    },
    {
      "cell_type": "markdown",
      "source": [
        "- Modify the sourcegraph instance url in main.py if needed. \n",
        "- Defaults to sourcegraph.com"
      ],
      "metadata": {
        "id": "3sJQbJ-2HXnY"
      }
    },
    {
      "cell_type": "code",
      "source": [
        "# sourcegraph_api_url = 'https://sourcegraph.com/.api/graphql'"
      ],
      "metadata": {
        "id": "65dqx2P6IOPp"
      },
      "execution_count": null,
      "outputs": []
    },
    {
      "cell_type": "markdown",
      "source": [
        "- Preview the synchronization"
      ],
      "metadata": {
        "id": "RMrwJGn3IFOD"
      }
    },
    {
      "cell_type": "code",
      "source": [
        "!python main.py --repository harshvyas/refactortest "
      ],
      "metadata": {
        "id": "tTFa8hwmciQB"
      },
      "execution_count": null,
      "outputs": []
    },
    {
      "cell_type": "markdown",
      "source": [
        "- Execute the synchronization"
      ],
      "metadata": {
        "id": "u9hVmYgqIu6z"
      }
    },
    {
      "cell_type": "code",
      "source": [
        "!python main.py --repository harshvyas/refactortest --sync # Execute the synchronization"
      ],
      "metadata": {
        "id": "p9C0iPNFFuzm"
      },
      "execution_count": null,
      "outputs": []
    }
  ]
}